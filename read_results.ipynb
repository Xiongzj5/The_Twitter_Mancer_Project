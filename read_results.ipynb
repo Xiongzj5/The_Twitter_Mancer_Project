{
 "cells": [
  {
   "cell_type": "code",
   "execution_count": 26,
   "metadata": {},
   "outputs": [
    {
     "data": {
      "text/markdown": [
       "# Summary of results"
      ],
      "text/plain": [
       "<IPython.core.display.Markdown object>"
      ]
     },
     "metadata": {},
     "output_type": "display_data"
    },
    {
     "data": {
      "text/markdown": [
       "## Follow Graph "
      ],
      "text/plain": [
       "<IPython.core.display.Markdown object>"
      ]
     },
     "metadata": {},
     "output_type": "display_data"
    },
    {
     "data": {
      "text/markdown": [
       "Balanced dataset using: 1,082,997 data"
      ],
      "text/plain": [
       "<IPython.core.display.Markdown object>"
      ]
     },
     "metadata": {},
     "output_type": "display_data"
    },
    {
     "data": {
      "text/markdown": [
       "### 1. Predict whether an edge belongs to Follow graph using features from all graphs"
      ],
      "text/plain": [
       "<IPython.core.display.Markdown object>"
      ]
     },
     "metadata": {},
     "output_type": "display_data"
    },
    {
     "data": {
      "text/markdown": [
       "**X_all**:\t0.797 ($\\pm$0.001)"
      ],
      "text/plain": [
       "<IPython.core.display.Markdown object>"
      ]
     },
     "metadata": {},
     "output_type": "display_data"
    },
    {
     "data": {
      "text/markdown": [
       "**X_deg**:\t0.784 ($\\pm$0.001)"
      ],
      "text/plain": [
       "<IPython.core.display.Markdown object>"
      ]
     },
     "metadata": {},
     "output_type": "display_data"
    },
    {
     "data": {
      "text/markdown": [
       "**X_triads**:\t0.725 ($\\pm$0.001)"
      ],
      "text/plain": [
       "<IPython.core.display.Markdown object>"
      ]
     },
     "metadata": {},
     "output_type": "display_data"
    },
    {
     "data": {
      "text/markdown": [
       "**X_composite**:\t0.727 ($\\pm$0.001)"
      ],
      "text/plain": [
       "<IPython.core.display.Markdown object>"
      ]
     },
     "metadata": {},
     "output_type": "display_data"
    },
    {
     "data": {
      "text/markdown": [
       "**X_triads_composite**:\t0.734 ($\\pm$0.001)"
      ],
      "text/plain": [
       "<IPython.core.display.Markdown object>"
      ]
     },
     "metadata": {},
     "output_type": "display_data"
    },
    {
     "data": {
      "text/markdown": [
       " - **5 highest logistic regression coefficients**"
      ],
      "text/plain": [
       "<IPython.core.display.Markdown object>"
      ]
     },
     "metadata": {},
     "output_type": "display_data"
    },
    {
     "name": "stdout",
     "output_type": "stream",
     "text": [
      "$In(f)$ : 1.69\t$Out(f)$ : 0.99\t$Total(v)$ : 0.62\t$T_{5}(f)$ : 0.60\t$Total(u)$ : 0.56\t"
     ]
    },
    {
     "data": {
      "text/markdown": [
       " - **5 lowest logistic regression coefficients**"
      ],
      "text/plain": [
       "<IPython.core.display.Markdown object>"
      ]
     },
     "metadata": {},
     "output_type": "display_data"
    },
    {
     "name": "stdout",
     "output_type": "stream",
     "text": [
      "$In(rt)$ : -0.86\t$Out(rt)$ : -0.73\t$P_{8}(q,rt)$ : -0.43\t$T_{5}(rt)$ : -0.34\t$T_{8}(rt)$ : -0.31\t"
     ]
    },
    {
     "data": {
      "text/markdown": [
       "### 2. Predict whether an edge belongs to Follow graph using features only from this graphs"
      ],
      "text/plain": [
       "<IPython.core.display.Markdown object>"
      ]
     },
     "metadata": {},
     "output_type": "display_data"
    },
    {
     "data": {
      "text/markdown": [
       "**X_only_i**:\t0.736 ($\\pm$0.001)"
      ],
      "text/plain": [
       "<IPython.core.display.Markdown object>"
      ]
     },
     "metadata": {},
     "output_type": "display_data"
    },
    {
     "data": {
      "text/markdown": [
       "### 3. Predict Follow type using one additional type"
      ],
      "text/plain": [
       "<IPython.core.display.Markdown object>"
      ]
     },
     "metadata": {},
     "output_type": "display_data"
    },
    {
     "data": {
      "text/markdown": [
       "Follow with Follow: 0.736,"
      ],
      "text/plain": [
       "<IPython.core.display.Markdown object>"
      ]
     },
     "metadata": {},
     "output_type": "display_data"
    },
    {
     "data": {
      "text/markdown": [
       "Follow with Quote: 0.747,"
      ],
      "text/plain": [
       "<IPython.core.display.Markdown object>"
      ]
     },
     "metadata": {},
     "output_type": "display_data"
    },
    {
     "data": {
      "text/markdown": [
       "Follow with Reply: 0.745,"
      ],
      "text/plain": [
       "<IPython.core.display.Markdown object>"
      ]
     },
     "metadata": {},
     "output_type": "display_data"
    },
    {
     "data": {
      "text/markdown": [
       "Follow with Retweet: 0.762,"
      ],
      "text/plain": [
       "<IPython.core.display.Markdown object>"
      ]
     },
     "metadata": {},
     "output_type": "display_data"
    },
    {
     "data": {
      "text/markdown": [
       "## Quote Graph "
      ],
      "text/plain": [
       "<IPython.core.display.Markdown object>"
      ]
     },
     "metadata": {},
     "output_type": "display_data"
    },
    {
     "data": {
      "text/markdown": [
       "Balanced dataset using: 666,820 data"
      ],
      "text/plain": [
       "<IPython.core.display.Markdown object>"
      ]
     },
     "metadata": {},
     "output_type": "display_data"
    },
    {
     "data": {
      "text/markdown": [
       "### 1. Predict whether an edge belongs to Quote graph using features from all graphs"
      ],
      "text/plain": [
       "<IPython.core.display.Markdown object>"
      ]
     },
     "metadata": {},
     "output_type": "display_data"
    },
    {
     "data": {
      "text/markdown": [
       "**X_all**:\t0.715 ($\\pm$0.001)"
      ],
      "text/plain": [
       "<IPython.core.display.Markdown object>"
      ]
     },
     "metadata": {},
     "output_type": "display_data"
    },
    {
     "data": {
      "text/markdown": [
       "**X_deg**:\t0.694 ($\\pm$0.001)"
      ],
      "text/plain": [
       "<IPython.core.display.Markdown object>"
      ]
     },
     "metadata": {},
     "output_type": "display_data"
    },
    {
     "data": {
      "text/markdown": [
       "**X_triads**:\t0.629 ($\\pm$0.001)"
      ],
      "text/plain": [
       "<IPython.core.display.Markdown object>"
      ]
     },
     "metadata": {},
     "output_type": "display_data"
    },
    {
     "data": {
      "text/markdown": [
       "**X_composite**:\t0.671 ($\\pm$0.001)"
      ],
      "text/plain": [
       "<IPython.core.display.Markdown object>"
      ]
     },
     "metadata": {},
     "output_type": "display_data"
    },
    {
     "data": {
      "text/markdown": [
       "**X_triads_composite**:\t0.685 ($\\pm$0.001)"
      ],
      "text/plain": [
       "<IPython.core.display.Markdown object>"
      ]
     },
     "metadata": {},
     "output_type": "display_data"
    },
    {
     "data": {
      "text/markdown": [
       " - **5 highest logistic regression coefficients**"
      ],
      "text/plain": [
       "<IPython.core.display.Markdown object>"
      ]
     },
     "metadata": {},
     "output_type": "display_data"
    },
    {
     "name": "stdout",
     "output_type": "stream",
     "text": [
      "$P_{8}(q,rt)$ : 1.96\t$Out(q)$ : 0.98\t$In(q)$ : 0.73\t$T_{3}(q)$ : 0.68\t$P_{5}(q,rt)$ : 0.27\t"
     ]
    },
    {
     "data": {
      "text/markdown": [
       " - **5 lowest logistic regression coefficients**"
      ],
      "text/plain": [
       "<IPython.core.display.Markdown object>"
      ]
     },
     "metadata": {},
     "output_type": "display_data"
    },
    {
     "name": "stdout",
     "output_type": "stream",
     "text": [
      "$Out(rt)$ : -0.48\t$P_{8}(f,rt)$ : -0.46\t$In(r)$ : -0.36\t$Out(f)$ : -0.35\t$In(rt)$ : -0.35\t"
     ]
    },
    {
     "data": {
      "text/markdown": [
       "### 2. Predict whether an edge belongs to Quote graph using features only from this graphs"
      ],
      "text/plain": [
       "<IPython.core.display.Markdown object>"
      ]
     },
     "metadata": {},
     "output_type": "display_data"
    },
    {
     "data": {
      "text/markdown": [
       "**X_only_i**:\t0.626 ($\\pm$0.001)"
      ],
      "text/plain": [
       "<IPython.core.display.Markdown object>"
      ]
     },
     "metadata": {},
     "output_type": "display_data"
    },
    {
     "data": {
      "text/markdown": [
       "### 3. Predict Quote type using one additional type"
      ],
      "text/plain": [
       "<IPython.core.display.Markdown object>"
      ]
     },
     "metadata": {},
     "output_type": "display_data"
    },
    {
     "data": {
      "text/markdown": [
       "Quote with Follow: 0.675,"
      ],
      "text/plain": [
       "<IPython.core.display.Markdown object>"
      ]
     },
     "metadata": {},
     "output_type": "display_data"
    },
    {
     "data": {
      "text/markdown": [
       "Quote with Quote: 0.626,"
      ],
      "text/plain": [
       "<IPython.core.display.Markdown object>"
      ]
     },
     "metadata": {},
     "output_type": "display_data"
    },
    {
     "data": {
      "text/markdown": [
       "Quote with Reply: 0.651,"
      ],
      "text/plain": [
       "<IPython.core.display.Markdown object>"
      ]
     },
     "metadata": {},
     "output_type": "display_data"
    },
    {
     "data": {
      "text/markdown": [
       "Quote with Retweet: 0.692,"
      ],
      "text/plain": [
       "<IPython.core.display.Markdown object>"
      ]
     },
     "metadata": {},
     "output_type": "display_data"
    },
    {
     "data": {
      "text/markdown": [
       "## Reply Graph "
      ],
      "text/plain": [
       "<IPython.core.display.Markdown object>"
      ]
     },
     "metadata": {},
     "output_type": "display_data"
    },
    {
     "data": {
      "text/markdown": [
       "Balanced dataset using: 1,259,970 data"
      ],
      "text/plain": [
       "<IPython.core.display.Markdown object>"
      ]
     },
     "metadata": {},
     "output_type": "display_data"
    },
    {
     "data": {
      "text/markdown": [
       "### 1. Predict whether an edge belongs to Reply graph using features from all graphs"
      ],
      "text/plain": [
       "<IPython.core.display.Markdown object>"
      ]
     },
     "metadata": {},
     "output_type": "display_data"
    },
    {
     "data": {
      "text/markdown": [
       "**X_all**:\t0.769 ($\\pm$0.001)"
      ],
      "text/plain": [
       "<IPython.core.display.Markdown object>"
      ]
     },
     "metadata": {},
     "output_type": "display_data"
    },
    {
     "data": {
      "text/markdown": [
       "**X_deg**:\t0.756 ($\\pm$0.001)"
      ],
      "text/plain": [
       "<IPython.core.display.Markdown object>"
      ]
     },
     "metadata": {},
     "output_type": "display_data"
    },
    {
     "data": {
      "text/markdown": [
       "**X_triads**:\t0.655 ($\\pm$0.001)"
      ],
      "text/plain": [
       "<IPython.core.display.Markdown object>"
      ]
     },
     "metadata": {},
     "output_type": "display_data"
    },
    {
     "data": {
      "text/markdown": [
       "**X_composite**:\t0.672 ($\\pm$0.001)"
      ],
      "text/plain": [
       "<IPython.core.display.Markdown object>"
      ]
     },
     "metadata": {},
     "output_type": "display_data"
    },
    {
     "data": {
      "text/markdown": [
       "**X_triads_composite**:\t0.671 ($\\pm$0.001)"
      ],
      "text/plain": [
       "<IPython.core.display.Markdown object>"
      ]
     },
     "metadata": {},
     "output_type": "display_data"
    },
    {
     "data": {
      "text/markdown": [
       " - **5 highest logistic regression coefficients**"
      ],
      "text/plain": [
       "<IPython.core.display.Markdown object>"
      ]
     },
     "metadata": {},
     "output_type": "display_data"
    },
    {
     "name": "stdout",
     "output_type": "stream",
     "text": [
      "$Out(r)$ : 3.04\t$In(r)$ : 0.50\t$P_{6}(r,rt)$ : 0.37\t$T_{9}(r)$ : 0.31\t$In(f)$ : 0.26\t"
     ]
    },
    {
     "data": {
      "text/markdown": [
       " - **5 lowest logistic regression coefficients**"
      ],
      "text/plain": [
       "<IPython.core.display.Markdown object>"
      ]
     },
     "metadata": {},
     "output_type": "display_data"
    },
    {
     "name": "stdout",
     "output_type": "stream",
     "text": [
      "$Out(rt)$ : -2.67\t$In(rt)$ : -0.73\t$Total(u)$ : -0.71\t$P_{3}(r,rt)$ : -0.30\t$In(q)$ : -0.27\t"
     ]
    },
    {
     "data": {
      "text/markdown": [
       "### 2. Predict whether an edge belongs to Reply graph using features only from this graphs"
      ],
      "text/plain": [
       "<IPython.core.display.Markdown object>"
      ]
     },
     "metadata": {},
     "output_type": "display_data"
    },
    {
     "data": {
      "text/markdown": [
       "**X_only_i**:\t0.581 ($\\pm$0.000)"
      ],
      "text/plain": [
       "<IPython.core.display.Markdown object>"
      ]
     },
     "metadata": {},
     "output_type": "display_data"
    },
    {
     "data": {
      "text/markdown": [
       "### 3. Predict Reply type using one additional type"
      ],
      "text/plain": [
       "<IPython.core.display.Markdown object>"
      ]
     },
     "metadata": {},
     "output_type": "display_data"
    },
    {
     "data": {
      "text/markdown": [
       "Reply with Follow: 0.685,"
      ],
      "text/plain": [
       "<IPython.core.display.Markdown object>"
      ]
     },
     "metadata": {},
     "output_type": "display_data"
    },
    {
     "data": {
      "text/markdown": [
       "Reply with Quote: 0.633,"
      ],
      "text/plain": [
       "<IPython.core.display.Markdown object>"
      ]
     },
     "metadata": {},
     "output_type": "display_data"
    },
    {
     "data": {
      "text/markdown": [
       "Reply with Reply: 0.581,"
      ],
      "text/plain": [
       "<IPython.core.display.Markdown object>"
      ]
     },
     "metadata": {},
     "output_type": "display_data"
    },
    {
     "data": {
      "text/markdown": [
       "Reply with Retweet: 0.755,"
      ],
      "text/plain": [
       "<IPython.core.display.Markdown object>"
      ]
     },
     "metadata": {},
     "output_type": "display_data"
    },
    {
     "data": {
      "text/markdown": [
       "## Retweet Graph "
      ],
      "text/plain": [
       "<IPython.core.display.Markdown object>"
      ]
     },
     "metadata": {},
     "output_type": "display_data"
    },
    {
     "data": {
      "text/markdown": [
       "Balanced dataset using: 1,499,593 data"
      ],
      "text/plain": [
       "<IPython.core.display.Markdown object>"
      ]
     },
     "metadata": {},
     "output_type": "display_data"
    },
    {
     "data": {
      "text/markdown": [
       "### 1. Predict whether an edge belongs to Retweet graph using features from all graphs"
      ],
      "text/plain": [
       "<IPython.core.display.Markdown object>"
      ]
     },
     "metadata": {},
     "output_type": "display_data"
    },
    {
     "data": {
      "text/markdown": [
       "**X_all**:\t0.771 ($\\pm$0.001)"
      ],
      "text/plain": [
       "<IPython.core.display.Markdown object>"
      ]
     },
     "metadata": {},
     "output_type": "display_data"
    },
    {
     "data": {
      "text/markdown": [
       "**X_deg**:\t0.743 ($\\pm$0.000)"
      ],
      "text/plain": [
       "<IPython.core.display.Markdown object>"
      ]
     },
     "metadata": {},
     "output_type": "display_data"
    },
    {
     "data": {
      "text/markdown": [
       "**X_triads**:\t0.674 ($\\pm$0.000)"
      ],
      "text/plain": [
       "<IPython.core.display.Markdown object>"
      ]
     },
     "metadata": {},
     "output_type": "display_data"
    },
    {
     "data": {
      "text/markdown": [
       "**X_composite**:\t0.666 ($\\pm$0.000)"
      ],
      "text/plain": [
       "<IPython.core.display.Markdown object>"
      ]
     },
     "metadata": {},
     "output_type": "display_data"
    },
    {
     "data": {
      "text/markdown": [
       "**X_triads_composite**:\t0.682 ($\\pm$0.000)"
      ],
      "text/plain": [
       "<IPython.core.display.Markdown object>"
      ]
     },
     "metadata": {},
     "output_type": "display_data"
    },
    {
     "data": {
      "text/markdown": [
       " - **5 highest logistic regression coefficients**"
      ],
      "text/plain": [
       "<IPython.core.display.Markdown object>"
      ]
     },
     "metadata": {},
     "output_type": "display_data"
    },
    {
     "name": "stdout",
     "output_type": "stream",
     "text": [
      "$Out(rt)$ : 2.36\t$Total(u)$ : 0.80\t$In(rt)$ : 0.66\t$T_{3}(rt)$ : 0.59\t$T_{5}(rt)$ : 0.45\t"
     ]
    },
    {
     "data": {
      "text/markdown": [
       " - **5 lowest logistic regression coefficients**"
      ],
      "text/plain": [
       "<IPython.core.display.Markdown object>"
      ]
     },
     "metadata": {},
     "output_type": "display_data"
    },
    {
     "name": "stdout",
     "output_type": "stream",
     "text": [
      "$Out(r)$ : -1.29\t$P_{8}(q,rt)$ : -1.02\t$Out(q)$ : -0.58\t$P_{7}(r,rt)$ : -0.38\t$P_{6}(r,rt)$ : -0.35\t"
     ]
    },
    {
     "data": {
      "text/markdown": [
       "### 2. Predict whether an edge belongs to Retweet graph using features only from this graphs"
      ],
      "text/plain": [
       "<IPython.core.display.Markdown object>"
      ]
     },
     "metadata": {},
     "output_type": "display_data"
    },
    {
     "data": {
      "text/markdown": [
       "**X_only_i**:\t0.682 ($\\pm$0.001)"
      ],
      "text/plain": [
       "<IPython.core.display.Markdown object>"
      ]
     },
     "metadata": {},
     "output_type": "display_data"
    },
    {
     "data": {
      "text/markdown": [
       "### 3. Predict Retweet type using one additional type"
      ],
      "text/plain": [
       "<IPython.core.display.Markdown object>"
      ]
     },
     "metadata": {},
     "output_type": "display_data"
    },
    {
     "data": {
      "text/markdown": [
       "Retweet with Follow: 0.710,"
      ],
      "text/plain": [
       "<IPython.core.display.Markdown object>"
      ]
     },
     "metadata": {},
     "output_type": "display_data"
    },
    {
     "data": {
      "text/markdown": [
       "Retweet with Quote: 0.726,"
      ],
      "text/plain": [
       "<IPython.core.display.Markdown object>"
      ]
     },
     "metadata": {},
     "output_type": "display_data"
    },
    {
     "data": {
      "text/markdown": [
       "Retweet with Reply: 0.722,"
      ],
      "text/plain": [
       "<IPython.core.display.Markdown object>"
      ]
     },
     "metadata": {},
     "output_type": "display_data"
    },
    {
     "data": {
      "text/markdown": [
       "Retweet with Retweet: 0.682,"
      ],
      "text/plain": [
       "<IPython.core.display.Markdown object>"
      ]
     },
     "metadata": {},
     "output_type": "display_data"
    }
   ],
   "source": [
    "from IPython.display import Markdown, display\n",
    "from IPython.utils import io\n",
    "import matplotlib.pyplot as plt\n",
    "import numpy as np\n",
    "\n",
    "# Helper functions\n",
    "def printm( str ):\n",
    "    display(Markdown(str))\n",
    "\n",
    "    \n",
    "def get_graph( i ):\n",
    "    if i == 0:\n",
    "        return \"Follow\"\n",
    "    if i == 1:\n",
    "        return \"Quote\"\n",
    "    if i == 2:\n",
    "        return \"Reply\"\n",
    "    if i == 3:\n",
    "        return \"Retweet\"\n",
    "\n",
    "def change_coef_name(coefs_names):\n",
    "    for n,i in enumerate(coefs_names):\n",
    "        if i.startswith('ct'): # edit pairwise triad names, prev form pX-AB, new P_X(A,B)\n",
    "            temp = 'P_{'+i[2]+'}'+'('+i[4]+','+i[5:]+')'\n",
    "            print(temp)\n",
    "            coefs_names[n] = '${}$'.format(temp)\n",
    "        elif i.startswith('t'):\n",
    "            temp = 'T_{'+i[1]+'}'+'('+i[3:]+')'\n",
    "            coefs_names[n] = '${}$'.format(temp)\n",
    "        elif i.startswith('d'):\n",
    "            if i[-1] == 't' and i[-2] != 'r':\n",
    "                if i[2:4] == 'ou':\n",
    "                    node = 'u'\n",
    "                else:\n",
    "                    node = 'v'\n",
    "                temp = 'Total('+node+')'\n",
    "            else:\n",
    "                if i[2:4] == 'ou':\n",
    "                    node = 'Out'\n",
    "                else:\n",
    "                    node = 'In'\n",
    "                if i[-2:] == 'rt':\n",
    "                    inter = 'rt'\n",
    "                else:\n",
    "                    inter = i[-1]\n",
    "                temp = node+'('+inter+')'\n",
    "            coefs_names[n] = '${}$'.format(temp)\n",
    "    return coefs_names\n",
    "\n",
    "def is_outlier(points, thresh=3.5):\n",
    "    \"\"\"\n",
    "    Returns a boolean array with True if points are outliers and False \n",
    "    otherwise.\n",
    "\n",
    "    Parameters:\n",
    "    -----------\n",
    "        points : An numobservations by numdimensions array of observations\n",
    "        thresh : The modified z-score to use as a threshold. Observations with\n",
    "            a modified z-score (based on the median absolute deviation) greater\n",
    "            than this value will be classified as outliers.\n",
    "\n",
    "    Returns:\n",
    "    --------\n",
    "        mask : A numobservations-length boolean array.\n",
    "\n",
    "    References:\n",
    "    ----------\n",
    "        Boris Iglewicz and David Hoaglin (1993), \"Volume 16: How to Detect and\n",
    "        Handle Outliers\", The ASQC Basic References in Quality Control:\n",
    "        Statistical Techniques, Edward F. Mykytka, Ph.D., Editor. \n",
    "    \"\"\"\n",
    "    if len(points.shape) == 1:\n",
    "        points = points[:,None]\n",
    "    median = np.median(points, axis=0)\n",
    "    diff = np.sum((points - median)**2, axis=-1)\n",
    "    diff = np.sqrt(diff)\n",
    "    med_abs_deviation = np.median(diff)\n",
    "\n",
    "    modified_z_score = 0.6745 * diff / med_abs_deviation\n",
    "\n",
    "    return modified_z_score > thresh\n",
    "\n",
    "# Init results arrays   \n",
    "results = [None for i in range(4)]\n",
    "one_hand_another = np.zeros((4,4))\n",
    "coefs_weights  = [None for i in range(4)]\n",
    "coefs_names = [[] for _ in range(4)] \n",
    "\n",
    "# Read result files\n",
    "with open(\"results/prediction_task.txt\") as f:\n",
    "    printm(\"# Summary of results\")\n",
    "    f.readline()\n",
    "    for i in range(4):\n",
    "            results[i] = {}\n",
    "            coefs_weights[i] = {}\n",
    "            samples = f.readline().split()[-2]\n",
    "            printm(\"## {} Graph \".format(get_graph(i)))\n",
    "            printm(\"Balanced dataset using: {:,} data\".format(int(samples)))\n",
    "            # Results for graph i for different features\n",
    "            printm(\"### 1. Predict whether an edge belongs to {} graph using features from all graphs\".format(get_graph(i)))\n",
    "            for j in range(5):\n",
    "                X = f.readline().split()\n",
    "                results[i][X[0]] = [X[3],X[6]]\n",
    "            for predictor, values in results[i].items():\n",
    "                printm(\"**{}**:\\t{} ($\\pm${})\".format(predictor, values[0][:-1], values[1]))\n",
    "            f_names = f.readline().split('\\t')\n",
    "            f_names[len(f_names)-1] = f_names[len(f_names)-1][:-2]\n",
    "            f_scores = f.readline().split('\\t')\n",
    "            f_scores[len(f_scores)-1] = f_scores[len(f_scores)-1][:-2]\n",
    "            f_scores = [float(s) for s in f_scores]\n",
    "            zipped = zip(f_names, f_scores)\n",
    "            coefs_names[i] = {}\n",
    "            with io.capture_output() as captured:\n",
    "                change_coef_name(f_names)\n",
    "            coefs_names[i]['X_all'] = f_names\n",
    "            coefs_weights[i]['X_all'] = f_scores\n",
    "            zipped = sorted(zipped, key = lambda t: t[1], reverse=True)\n",
    "            printm(\" - **5 highest logistic regression coefficients**\")\n",
    "            for j in range(5):\n",
    "                if j == 5:\n",
    "                    print(\"\\n\")\n",
    "                print(\"{} : {:.2f}\\t\".format(zipped[j][0], zipped[j][1]),end='')\n",
    "            printm(\" - **5 lowest logistic regression coefficients**\")\n",
    "            for j in range(1,6):\n",
    "                if j == 6:\n",
    "                    print(\"\\n\")\n",
    "                print(\"{} : {:.2f}\\t\".format(zipped[len(zipped)-j][0], zipped[len(zipped)-j][1]),end='')\n",
    "            printm(\"### 2. Predict whether an edge belongs to {} graph using features only from this graphs\".format(get_graph(i)))\n",
    "            X = f.readline().split()\n",
    "            results[i][X[0]] = [X[3],X[6]]\n",
    "            printm(\"**{}**:\\t{} ($\\pm${})\".format(X[0], X[3][:-1], X[6]))\n",
    "            printm(\"### 3. Predict {} type using one additional type\".format(get_graph(i)))\n",
    "            for j in range(4):\n",
    "                f.readline()\n",
    "                X = f.readline().split()\n",
    "                one_hand_another[i][j] = float(X[2][:-1])\n",
    "                printm(\"{} with {}: {}\".format(get_graph(i), get_graph(j), X[2]))"
   ]
  },
  {
   "cell_type": "code",
   "execution_count": 39,
   "metadata": {},
   "outputs": [
    {
     "data": {
      "text/markdown": [
       "# One versus all layers"
      ],
      "text/plain": [
       "<IPython.core.display.Markdown object>"
      ]
     },
     "metadata": {},
     "output_type": "display_data"
    },
    {
     "data": {
      "text/html": [
       "<div>\n",
       "<style scoped>\n",
       "    .dataframe tbody tr th:only-of-type {\n",
       "        vertical-align: middle;\n",
       "    }\n",
       "\n",
       "    .dataframe tbody tr th {\n",
       "        vertical-align: top;\n",
       "    }\n",
       "\n",
       "    .dataframe thead th {\n",
       "        text-align: right;\n",
       "    }\n",
       "</style>\n",
       "<table border=\"1\" class=\"dataframe\">\n",
       "  <thead>\n",
       "    <tr style=\"text-align: right;\">\n",
       "      <th></th>\n",
       "      <th>All layers</th>\n",
       "      <th>One layer</th>\n",
       "      <th>Relative improvement (%)</th>\n",
       "    </tr>\n",
       "  </thead>\n",
       "  <tbody>\n",
       "    <tr>\n",
       "      <th>Follow</th>\n",
       "      <td>0.797</td>\n",
       "      <td>0.736</td>\n",
       "      <td>8.29</td>\n",
       "    </tr>\n",
       "    <tr>\n",
       "      <th>Quote</th>\n",
       "      <td>0.715</td>\n",
       "      <td>0.626</td>\n",
       "      <td>14.22</td>\n",
       "    </tr>\n",
       "    <tr>\n",
       "      <th>Reply</th>\n",
       "      <td>0.769</td>\n",
       "      <td>0.581</td>\n",
       "      <td>32.36</td>\n",
       "    </tr>\n",
       "    <tr>\n",
       "      <th>Retweet</th>\n",
       "      <td>0.771</td>\n",
       "      <td>0.682</td>\n",
       "      <td>13.05</td>\n",
       "    </tr>\n",
       "  </tbody>\n",
       "</table>\n",
       "</div>"
      ],
      "text/plain": [
       "         All layers  One layer  Relative improvement (%)\n",
       "Follow        0.797      0.736                      8.29\n",
       "Quote         0.715      0.626                     14.22\n",
       "Reply         0.769      0.581                     32.36\n",
       "Retweet       0.771      0.682                     13.05"
      ]
     },
     "execution_count": 39,
     "metadata": {},
     "output_type": "execute_result"
    }
   ],
   "source": [
    "printm(\"# One versus all layers\")\n",
    "import pandas as pd\n",
    "from statistics import mean, stdev\n",
    "data = np.zeros((4,3))\n",
    "for i in range(4):\n",
    "    all_layers = float(results[i]['X_all'][0][:-1])\n",
    "    one_layer = float(results[i]['X_only_i'][0][:-1])\n",
    "    data[i][0] = all_layers\n",
    "    data[i][1] = one_layer\n",
    "    data[i][2] = (((all_layers-one_layer)/one_layer)*100)\n",
    "data[:,2] = data[:,2].round(decimals=2)\n",
    "index = [get_graph(i) for i in range(4)]\n",
    "columns = ['All layers', 'One layer', 'Relative improvement (%)']\n",
    "pd.DataFrame(data, index=index, columns=columns)"
   ]
  },
  {
   "cell_type": "code",
   "execution_count": 28,
   "metadata": {},
   "outputs": [
    {
     "data": {
      "text/markdown": [
       "# One hand helping the other"
      ],
      "text/plain": [
       "<IPython.core.display.Markdown object>"
      ]
     },
     "metadata": {},
     "output_type": "display_data"
    },
    {
     "data": {
      "image/png": "[encoded data removed]",
      "text/plain": [
       "<Figure size 432x288 with 2 Axes>"
      ]
     },
     "metadata": {
      "needs_background": "light"
     },
     "output_type": "display_data"
    }
   ],
   "source": [
    "printm(\"# One hand helping the other\")\n",
    "import numpy as np\n",
    "import matplotlib\n",
    "import matplotlib.pyplot as plt\n",
    "# sphinx_gallery_thumbnail_number = 2\n",
    "\n",
    "graph_types = [\"Follow\", \"Quote\", \"Reply\", \"Retweet\"]\n",
    "\n",
    "fig, ax = plt.subplots()\n",
    "im = ax.imshow(one_hand_another)\n",
    "\n",
    "# We want to show all ticks...\n",
    "ax.set_xticks(np.arange(len(graph_types)))\n",
    "ax.set_yticks(np.arange(len(graph_types)))\n",
    "# ... and label them with the respective list entries\n",
    "ax.set_xticklabels(graph_types)\n",
    "ax.set_yticklabels(graph_types)\n",
    "\n",
    "# Rotate the tick labels and set their alignment.\n",
    "plt.setp(ax.get_xticklabels(), rotation=45, ha=\"right\",\n",
    "         rotation_mode=\"anchor\")\n",
    "ax.xaxis.tick_top()\n",
    "# Loop over data dimensions and create text annotations.\n",
    "for i in range(len(graph_types)):\n",
    "    for j in range(len(graph_types)):\n",
    "        text = ax.text(j, i, one_hand_another[i, j],\n",
    "                       ha=\"center\", va=\"center\", color=\"w\")\n",
    "fig.tight_layout()\n",
    "cbar = fig.colorbar(im, ticks=[np.amin(one_hand_another), np.amax(one_hand_another)])\n",
    "plt.show()"
   ]
  },
  {
   "cell_type": "code",
   "execution_count": 19,
   "metadata": {},
   "outputs": [
    {
     "data": {
      "text/markdown": [
       "# Bar chart of predictions"
      ],
      "text/plain": [
       "<IPython.core.display.Markdown object>"
      ]
     },
     "metadata": {},
     "output_type": "display_data"
    },
    {
     "data": {
      "image/png": "[encoded data removed]",
      "text/plain": [
       "<Figure size 432x288 with 1 Axes>"
      ]
     },
     "metadata": {
      "needs_background": "light"
     },
     "output_type": "display_data"
    }
   ],
   "source": [
    "printm(\"# Bar chart of predictions\")\n",
    "\n",
    "# libraries\n",
    "import numpy as np\n",
    "import matplotlib.pyplot as plt\n",
    "plt.rcParams.update({'font.size': 16})\n",
    "\n",
    "plt.rcParams['hatch.linewidth'] = 2.0 \n",
    "\n",
    "graph_names = [get_graph(i) for i in range(4)]\n",
    "feature_sets = list(results[0].keys())\n",
    " \n",
    "# set width of bar\n",
    "barWidth = 0.13\n",
    " \n",
    "# set height of bar\n",
    "bars =[[]*4 for i in range(5)]\n",
    "for i in range(5):\n",
    "    for j in range(4):\n",
    "        bars[i].append(float(results[j][feature_sets[i]][0][:-1]))\n",
    "\n",
    "feature_sets = ['All features', 'Degree features', 'Single type triads', 'Pairwise type triads', 'All triad types (single+pairwise)', 'Features only from this graph', 'Features from all others, but this graph']\n",
    "# Set position of bar on X axis\n",
    "r = [[t+barWidth*i for t in np.arange(len(bars[0]))]for i in range(len(feature_sets))]\n",
    "hatches = ['', '//', '-', '\\\\','+', 'x', '*']\n",
    "# Make the plot\n",
    "colors = plt.rcParams['axes.prop_cycle'].by_key()['color']\n",
    "for i in range(5):\n",
    "    plt.bar(r[i], bars[i], color=colors[i], width=barWidth, hatch=hatches[i], edgecolor='white', label=feature_sets[i])\n",
    " \n",
    "# Add xticks on the middle of the group bars\n",
    "#plt.title('Prediction accuracy using all data', fontweight='bold')\n",
    "plt.xticks([r + barWidth for r in range(len(bars[0]))], graph_names)\n",
    "plt.ylabel('Accuracy')\n",
    "plt.ylim(0, 1)\n",
    "# Create legend & Show graphic\n",
    "plt.legend(bbox_to_anchor=(1.05, 0.9), loc=2, borderaxespad=0.)\n",
    "\n",
    "plt.show()"
   ]
  },
  {
   "cell_type": "code",
   "execution_count": 22,
   "metadata": {},
   "outputs": [
    {
     "data": {
      "text/markdown": [
       "# Logistic regression coefficients"
      ],
      "text/plain": [
       "<IPython.core.display.Markdown object>"
      ]
     },
     "metadata": {},
     "output_type": "display_data"
    },
    {
     "data": {
      "image/png": "[encoded data removed]",
      "text/plain": [
       "<Figure size 432x288 with 1 Axes>"
      ]
     },
     "metadata": {
      "needs_background": "light"
     },
     "output_type": "display_data"
    },
    {
     "data": {
      "image/png": "[encoded data removed]",
      "text/plain": [
       "<Figure size 432x288 with 1 Axes>"
      ]
     },
     "metadata": {
      "needs_background": "light"
     },
     "output_type": "display_data"
    },
    {
     "data": {
      "image/png": "[encoded data removed]",
      "text/plain": [
       "<Figure size 432x288 with 1 Axes>"
      ]
     },
     "metadata": {
      "needs_background": "light"
     },
     "output_type": "display_data"
    },
    {
     "data": {
      "image/png": "[encoded data removed]",
      "text/plain": [
       "<Figure size 432x288 with 1 Axes>"
      ]
     },
     "metadata": {
      "needs_background": "light"
     },
     "output_type": "display_data"
    }
   ],
   "source": [
    "printm(\"# Logistic regression coefficients\")\n",
    "for gt in range(4):\n",
    "    # ALL FEATURES\n",
    "    coefs_weights\n",
    "    top5 = np.flip(np.argsort(coefs_weights[gt]['X_all'])[-5:],axis=0)\n",
    "    bottom5 = np.flip(np.argsort(coefs_weights[gt]['X_all'])[:5],axis=0)\n",
    "    best_coefs = np.concatenate((top5, bottom5), axis=None)\n",
    "    \n",
    "    names = [coefs_names[gt]['X_all'][i] for i in best_coefs]\n",
    "    x_pos = [i if i<=4 else i+1 for i in np.arange(len(best_coefs))]\n",
    "    CTEs = [coefs_weights[gt]['X_all'][i] for i in best_coefs]\n",
    "    \n",
    "    # Build the plot\n",
    "    fig, ax = plt.subplots()\n",
    "    ax.bar(x_pos, CTEs, align='center', alpha=0.5, ecolor='black', capsize=10)\n",
    "    ax.set_ylabel('Coefficient weight')\n",
    "    ax.set_xticks(x_pos)\n",
    "    ax.set_xticklabels(names, rotation='vertical')\n",
    "    plt.ylim(-4,4)\n",
    "    # show the figure\n",
    "    plt.title(\"{}\".format(get_graph(gt)))\n",
    "    plt.tight_layout()\n",
    "    plt.show()"
   ]
  },
  {
   "cell_type": "code",
   "execution_count": 48,
   "metadata": {},
   "outputs": [
    {
     "data": {
      "text/markdown": [
       "# Average accuracy be edge embeddedness"
      ],
      "text/plain": [
       "<IPython.core.display.Markdown object>"
      ]
     },
     "metadata": {},
     "output_type": "display_data"
    },
    {
     "data": {
      "image/png": "[encoded data removed]",
      "text/plain": [
       "<Figure size 432x288 with 1 Axes>"
      ]
     },
     "metadata": {
      "needs_background": "light"
     },
     "output_type": "display_data"
    },
    {
     "data": {
      "image/png": "[encoded data removed]",
      "text/plain": [
       "<Figure size 432x288 with 1 Axes>"
      ]
     },
     "metadata": {
      "needs_background": "light"
     },
     "output_type": "display_data"
    },
    {
     "data": {
      "image/png": "[encoded data removed]",
      "text/plain": [
       "<Figure size 432x288 with 1 Axes>"
      ]
     },
     "metadata": {
      "needs_background": "light"
     },
     "output_type": "display_data"
    },
    {
     "data": {
      "image/png": "[encoded data removed]",
      "text/plain": [
       "<Figure size 432x288 with 1 Axes>"
      ]
     },
     "metadata": {
      "needs_background": "light"
     },
     "output_type": "display_data"
    }
   ],
   "source": [
    "printm(\"# Average accuracy be edge embeddedness\")\n",
    "import pickle as pickle\n",
    "\n",
    "with open('results/embAll_1_28.pk', 'rb') as f:\n",
    "    embAll = pickle.load(f)\n",
    "    \n",
    "for i in range(4):\n",
    "    x = list(embAll[i].keys())\n",
    "    z = list(embAll[i].values())\n",
    "    \n",
    "    # remove those that appear less than 20 times\n",
    "    toRemove = []\n",
    "    for j in range(len(z)):\n",
    "        if len(z[j]) < 500:\n",
    "            toRemove.append(j)\n",
    "    \n",
    "    x = [x[t]+1 for t in range(len(x)) if t not in toRemove ]\n",
    "    z = [z[t] for t in range(len(z)) if t not in toRemove ]\n",
    "    \n",
    "    # Find accuracy and plot scatter-plot\n",
    "    y = [0 for _ in range(len(z))]\n",
    "    for j in range(len(z)):\n",
    "        y[j] = z[j].count(True)/len(z[j])\n",
    "    #min_index = y.index(min(y))\n",
    "    #print(\"Minimum value for {} is: {}\".format(get_graph(i), min_index)) \n",
    "    a = plt.rcParams.update({'font.size': 14})\n",
    "    a = plt.scatter(x,y, color='black')\n",
    "    #a = plt.plot([min_index], [y[min_index]], marker='o', markersize=20, color=\"red\")\n",
    "    a = plt.title(\"{}\".format(get_graph(i)))\n",
    "    a = plt.xlabel(\"Edge embeddedness\")\n",
    "    a = plt.ylabel(\"Average Accuracy\")\n",
    "    a = plt.ylim(0.5, 1.05)\n",
    "    a = plt.tight_layout()\n",
    "    plt.show()"
   ]
  }
 ],
 "metadata": {
  "kernelspec": {
   "display_name": "Python 3",
   "language": "python",
   "name": "python3"
  },
  "language_info": {
   "codemirror_mode": {
    "name": "ipython",
    "version": 3
   },
   "file_extension": ".py",
   "mimetype": "text/x-python",
   "name": "python",
   "nbconvert_exporter": "python",
   "pygments_lexer": "ipython3",
   "version": "3.7.1"
  }
 },
 "nbformat": 4,
 "nbformat_minor": 2
}
